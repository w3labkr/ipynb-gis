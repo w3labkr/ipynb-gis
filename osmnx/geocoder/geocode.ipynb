{
 "cells": [
  {
   "cell_type": "markdown",
   "metadata": {},
   "source": [
    "# Geocode\n",
    "\n",
    "Geocode a query string to (lat, lng) with the Nominatim geocoder."
   ]
  },
  {
   "cell_type": "code",
   "execution_count": 1,
   "metadata": {},
   "outputs": [
    {
     "data": {
      "text/plain": [
       "'1.1.2'"
      ]
     },
     "execution_count": 1,
     "metadata": {},
     "output_type": "execute_result"
    }
   ],
   "source": [
    "# OSMnx: New Methods for Acquiring, Constructing, Analyzing, and Visualizing Complex Street Networks\n",
    "import osmnx as ox\n",
    "\n",
    "ox.config(use_cache=True, log_console=False)\n",
    "ox.__version__"
   ]
  },
  {
   "cell_type": "code",
   "execution_count": 2,
   "metadata": {},
   "outputs": [
    {
     "data": {
      "text/plain": [
       "(37.5560278, 126.9722244)"
      ]
     },
     "execution_count": 2,
     "metadata": {},
     "output_type": "execute_result"
    }
   ],
   "source": [
    "query = '서울역, 세종대로, 중구, 서울특별시, 대한민국'\n",
    "\n",
    "ox.geocoder.geocode(query)"
   ]
  }
 ],
 "metadata": {
  "interpreter": {
   "hash": "eef2894f7a9f9d7d072564062bc0a7eefb4ed49d743b202f3bff32153066ff5a"
  },
  "kernelspec": {
   "display_name": "Python 3.8.5 64-bit ('openstreetmap')",
   "language": "python",
   "name": "python3"
  },
  "language_info": {
   "codemirror_mode": {
    "name": "ipython",
    "version": 3
   },
   "file_extension": ".py",
   "mimetype": "text/x-python",
   "name": "python",
   "nbconvert_exporter": "python",
   "pygments_lexer": "ipython3",
   "version": "3.8.5"
  },
  "orig_nbformat": 4
 },
 "nbformat": 4,
 "nbformat_minor": 2
}
