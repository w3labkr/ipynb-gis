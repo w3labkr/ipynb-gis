{
 "cells": [
  {
   "cell_type": "markdown",
   "metadata": {},
   "source": [
    "# geocode_to_gdf\n",
    "\n",
    "Retrieve place(s) by name or ID from the Nominatim API as a GeoDataFrame."
   ]
  },
  {
   "cell_type": "code",
   "execution_count": 1,
   "metadata": {},
   "outputs": [
    {
     "data": {
      "text/plain": [
       "'1.1.2'"
      ]
     },
     "execution_count": 1,
     "metadata": {},
     "output_type": "execute_result"
    }
   ],
   "source": [
    "# OSMnx: New Methods for Acquiring, Constructing, Analyzing, and Visualizing Complex Street Networks\n",
    "import osmnx as ox\n",
    "\n",
    "ox.config(use_cache=True, log_console=False)\n",
    "ox.__version__"
   ]
  },
  {
   "cell_type": "markdown",
   "metadata": {},
   "source": [
    "## country"
   ]
  },
  {
   "cell_type": "code",
   "execution_count": 2,
   "metadata": {},
   "outputs": [
    {
     "name": "stderr",
     "output_type": "stream",
     "text": [
      "/Users/junhyun/.pyenv/versions/3.8.5/envs/openstreetmap/lib/python3.8/site-packages/osmnx/geocoder.py:110: FutureWarning: The frame.append method is deprecated and will be removed from pandas in a future version. Use pandas.concat instead.\n",
      "  gdf = gdf.append(_geocode_query_to_gdf(q, wr, by_osmid))\n"
     ]
    },
    {
     "data": {
      "image/png": "[encoded data removed]",
      "text/plain": [
       "<Figure size 432x288 with 1 Axes>"
      ]
     },
     "metadata": {
      "needs_background": "light"
     },
     "output_type": "display_data"
    }
   ],
   "source": [
    "query = '대한민국'\n",
    "\n",
    "# Retrieve place(s) by name or ID from the Nominatim API as a GeoDataFrame.\n",
    "gdf = ox.geocoder.geocode_to_gdf(query, which_result=None, by_osmid=False, buffer_dist=None)\n",
    "\n",
    "# Project a GeoDataFrame from its current CRS to another.\n",
    "proj = ox.project_gdf(gdf)\n",
    "\n",
    "# Plot a graph.\n",
    "ax = proj.plot(); _ = ax.axis('off')"
   ]
  },
  {
   "cell_type": "markdown",
   "metadata": {},
   "source": [
    "## city"
   ]
  },
  {
   "cell_type": "code",
   "execution_count": 3,
   "metadata": {},
   "outputs": [
    {
     "name": "stderr",
     "output_type": "stream",
     "text": [
      "/Users/junhyun/.pyenv/versions/3.8.5/envs/openstreetmap/lib/python3.8/site-packages/osmnx/geocoder.py:110: FutureWarning: The frame.append method is deprecated and will be removed from pandas in a future version. Use pandas.concat instead.\n",
      "  gdf = gdf.append(_geocode_query_to_gdf(q, wr, by_osmid))\n"
     ]
    },
    {
     "data": {
      "image/png": "[encoded data removed]",
      "text/plain": [
       "<Figure size 432x288 with 1 Axes>"
      ]
     },
     "metadata": {
      "needs_background": "light"
     },
     "output_type": "display_data"
    }
   ],
   "source": [
    "query = '서울특별시, 대한민국'\n",
    "\n",
    "# Retrieve place(s) by name or ID from the Nominatim API as a GeoDataFrame.\n",
    "gdf = ox.geocoder.geocode_to_gdf(query, which_result=None, by_osmid=False, buffer_dist=None)\n",
    "\n",
    "# Project a GeoDataFrame from its current CRS to another.\n",
    "proj = ox.project_gdf(gdf)\n",
    "\n",
    "# Plot a graph.\n",
    "ax = proj.plot(); _ = ax.axis('off')"
   ]
  },
  {
   "cell_type": "markdown",
   "metadata": {},
   "source": [
    "## gu"
   ]
  },
  {
   "cell_type": "code",
   "execution_count": 4,
   "metadata": {},
   "outputs": [
    {
     "name": "stderr",
     "output_type": "stream",
     "text": [
      "/Users/junhyun/.pyenv/versions/3.8.5/envs/openstreetmap/lib/python3.8/site-packages/osmnx/geocoder.py:110: FutureWarning: The frame.append method is deprecated and will be removed from pandas in a future version. Use pandas.concat instead.\n",
      "  gdf = gdf.append(_geocode_query_to_gdf(q, wr, by_osmid))\n"
     ]
    },
    {
     "data": {
      "image/png": "[encoded data removed]",
      "text/plain": [
       "<Figure size 432x288 with 1 Axes>"
      ]
     },
     "metadata": {
      "needs_background": "light"
     },
     "output_type": "display_data"
    }
   ],
   "source": [
    "query = '중구, 서울특별시, 대한민국'\n",
    "\n",
    "# Retrieve place(s) by name or ID from the Nominatim API as a GeoDataFrame.\n",
    "gdf = ox.geocoder.geocode_to_gdf(query, which_result=None, by_osmid=False, buffer_dist=None)\n",
    "\n",
    "# Project a GeoDataFrame from its current CRS to another.\n",
    "proj = ox.project_gdf(gdf)\n",
    "\n",
    "# Plot a graph.\n",
    "ax = proj.plot(); _ = ax.axis('off')"
   ]
  },
  {
   "cell_type": "markdown",
   "metadata": {},
   "source": [
    "## multi query"
   ]
  },
  {
   "cell_type": "code",
   "execution_count": 5,
   "metadata": {},
   "outputs": [
    {
     "name": "stderr",
     "output_type": "stream",
     "text": [
      "/Users/junhyun/.pyenv/versions/3.8.5/envs/openstreetmap/lib/python3.8/site-packages/osmnx/geocoder.py:110: FutureWarning: The frame.append method is deprecated and will be removed from pandas in a future version. Use pandas.concat instead.\n",
      "  gdf = gdf.append(_geocode_query_to_gdf(q, wr, by_osmid))\n",
      "/Users/junhyun/.pyenv/versions/3.8.5/envs/openstreetmap/lib/python3.8/site-packages/osmnx/geocoder.py:110: FutureWarning: The frame.append method is deprecated and will be removed from pandas in a future version. Use pandas.concat instead.\n",
      "  gdf = gdf.append(_geocode_query_to_gdf(q, wr, by_osmid))\n",
      "/Users/junhyun/.pyenv/versions/3.8.5/envs/openstreetmap/lib/python3.8/site-packages/osmnx/geocoder.py:110: FutureWarning: The frame.append method is deprecated and will be removed from pandas in a future version. Use pandas.concat instead.\n",
      "  gdf = gdf.append(_geocode_query_to_gdf(q, wr, by_osmid))\n"
     ]
    },
    {
     "data": {
      "image/png": "[encoded data removed]",
      "text/plain": [
       "<Figure size 432x288 with 1 Axes>"
      ]
     },
     "metadata": {
      "needs_background": "light"
     },
     "output_type": "display_data"
    }
   ],
   "source": [
    "query1 = '중구, 서울특별시, 대한민국'\n",
    "query2 = '종로구, 서울특별시, 대한민국'\n",
    "query3 = '성북구, 서울특별시, 대한민국'\n",
    "\n",
    "# Retrieve place(s) by name or ID from the Nominatim API as a GeoDataFrame.\n",
    "gdf = ox.geocoder.geocode_to_gdf(\n",
    "    [query1, query2, query3], \n",
    "    which_result=None, \n",
    "    by_osmid=False, \n",
    "    buffer_dist=None\n",
    ")\n",
    "\n",
    "# Project a GeoDataFrame from its current CRS to another.\n",
    "proj = ox.project_gdf(gdf)\n",
    "\n",
    "# Plot a graph.\n",
    "ax = proj.plot(); _ = ax.axis('off')"
   ]
  }
 ],
 "metadata": {
  "interpreter": {
   "hash": "eef2894f7a9f9d7d072564062bc0a7eefb4ed49d743b202f3bff32153066ff5a"
  },
  "kernelspec": {
   "display_name": "Python 3.8.5 64-bit ('openstreetmap')",
   "language": "python",
   "name": "python3"
  },
  "language_info": {
   "codemirror_mode": {
    "name": "ipython",
    "version": 3
   },
   "file_extension": ".py",
   "mimetype": "text/x-python",
   "name": "python",
   "nbconvert_exporter": "python",
   "pygments_lexer": "ipython3",
   "version": "3.8.5"
  },
  "orig_nbformat": 4
 },
 "nbformat": 4,
 "nbformat_minor": 2
}
