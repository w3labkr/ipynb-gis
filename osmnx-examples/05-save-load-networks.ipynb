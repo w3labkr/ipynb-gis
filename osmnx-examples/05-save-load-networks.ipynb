{
 "cells": [
  {
   "cell_type": "markdown",
   "metadata": {},
   "source": [
    "# Save/load street network models to/from disk\n",
    "\n",
    "Author: [Geoff Boeing](https://geoffboeing.com/)\n",
    "\n",
    "  - [Overview of OSMnx](http://geoffboeing.com/2016/11/osmnx-python-street-networks/)\n",
    "  - [GitHub repo](https://github.com/gboeing/osmnx)\n",
    "  - [Examples, demos, tutorials](https://github.com/gboeing/osmnx-examples)\n",
    "  - [Documentation](https://osmnx.readthedocs.io/en/stable/)\n",
    "  - [Journal article/citation](http://geoffboeing.com/publications/osmnx-complex-street-networks/)\n",
    "  \n",
    "This notebook demonstrates how to save networks to disk as shapefiles, geopackages, graphml, and xml, and how to load an OSMnx-created network from a graphml file."
   ]
  },
  {
   "cell_type": "code",
   "execution_count": 1,
   "metadata": {},
   "outputs": [
    {
     "data": {
      "text/plain": [
       "'1.1.2'"
      ]
     },
     "execution_count": 1,
     "metadata": {},
     "output_type": "execute_result"
    }
   ],
   "source": [
    "import osmnx as ox\n",
    "\n",
    "%matplotlib inline\n",
    "ox.config(use_cache=True, log_console=False)\n",
    "ox.__version__"
   ]
  },
  {
   "cell_type": "code",
   "execution_count": 2,
   "metadata": {},
   "outputs": [
    {
     "name": "stderr",
     "output_type": "stream",
     "text": [
      "/Users/junhyun/.pyenv/versions/3.8.5/envs/openstreetmap/lib/python3.8/site-packages/osmnx/geocoder.py:110: FutureWarning: The frame.append method is deprecated and will be removed from pandas in a future version. Use pandas.concat instead.\n",
      "  gdf = gdf.append(_geocode_query_to_gdf(q, wr, by_osmid))\n"
     ]
    }
   ],
   "source": [
    "# get a network\n",
    "place = \"Piedmont, California, USA\"\n",
    "G = ox.graph_from_place(place, network_type=\"drive\")"
   ]
  },
  {
   "cell_type": "markdown",
   "metadata": {},
   "source": [
    "## Shapefiles and GeoPackages for GIS"
   ]
  },
  {
   "cell_type": "code",
   "execution_count": 3,
   "metadata": {},
   "outputs": [],
   "source": [
    "# save graph as a geopackage\n",
    "# you can similarly save it as a shapefile, if you prefer obsolete formats\n",
    "ox.save_graph_geopackage(G, filepath=\"./data/piedmont.gpkg\")"
   ]
  },
  {
   "cell_type": "markdown",
   "metadata": {},
   "source": [
    "## GraphML files for saving network and preserving topological detail"
   ]
  },
  {
   "cell_type": "code",
   "execution_count": 4,
   "metadata": {},
   "outputs": [],
   "source": [
    "# save/load graph as a graphml file: this is the best way to save your model\n",
    "# for subsequent work later\n",
    "filepath = \"./data/piedmont.graphml\"\n",
    "ox.save_graphml(G, filepath)\n",
    "G = ox.load_graphml(filepath)"
   ]
  },
  {
   "cell_type": "code",
   "execution_count": 5,
   "metadata": {},
   "outputs": [],
   "source": [
    "# if you want to work with your model in gephi, use gephi compatibility mode\n",
    "ox.save_graphml(G, filepath=filepath, gephi=True)"
   ]
  },
  {
   "cell_type": "markdown",
   "metadata": {},
   "source": [
    "## SVG file to work with in Adobe Illustrator"
   ]
  },
  {
   "cell_type": "code",
   "execution_count": 6,
   "metadata": {},
   "outputs": [],
   "source": [
    "# save street network as SVG\n",
    "fig, ax = ox.plot_graph(G, show=False, save=True, close=True, filepath=\"./images/piedmont.svg\")"
   ]
  },
  {
   "cell_type": "markdown",
   "metadata": {},
   "source": [
    "## Save points of interest or building footprints"
   ]
  },
  {
   "cell_type": "code",
   "execution_count": 7,
   "metadata": {},
   "outputs": [
    {
     "name": "stderr",
     "output_type": "stream",
     "text": [
      "/Users/junhyun/.pyenv/versions/3.8.5/envs/openstreetmap/lib/python3.8/site-packages/osmnx/geocoder.py:110: FutureWarning: The frame.append method is deprecated and will be removed from pandas in a future version. Use pandas.concat instead.\n",
      "  gdf = gdf.append(_geocode_query_to_gdf(q, wr, by_osmid))\n"
     ]
    }
   ],
   "source": [
    "# get all \"amenities\" and save as a geopackage via geopandas\n",
    "gdf = ox.geometries_from_place(place, tags={\"amenity\": True})\n",
    "gdf = gdf.apply(lambda c: c.astype(str) if c.name != \"geometry\" else c, axis=0)\n",
    "gdf.to_file(\"./data/pois.gpkg\", driver=\"GPKG\")"
   ]
  },
  {
   "cell_type": "code",
   "execution_count": 8,
   "metadata": {},
   "outputs": [
    {
     "name": "stderr",
     "output_type": "stream",
     "text": [
      "/Users/junhyun/.pyenv/versions/3.8.5/envs/openstreetmap/lib/python3.8/site-packages/osmnx/geocoder.py:110: FutureWarning: The frame.append method is deprecated and will be removed from pandas in a future version. Use pandas.concat instead.\n",
      "  gdf = gdf.append(_geocode_query_to_gdf(q, wr, by_osmid))\n"
     ]
    }
   ],
   "source": [
    "# get all building footprints and save as a geopackage via geopandas\n",
    "gdf = ox.geometries_from_place(place, tags={\"building\": True})\n",
    "gdf = gdf.apply(lambda c: c.astype(str) if c.name != \"geometry\" else c, axis=0)\n",
    "gdf.to_file(\"./data/building_footprints.gpkg\", driver=\"GPKG\")"
   ]
  },
  {
   "cell_type": "markdown",
   "metadata": {},
   "source": [
    "## Save .osm XML files\n",
    "\n",
    "To save your graph to disk as a .osm formatted XML file, ensure that you created the graph with `ox.settings.all_oneway=True` for `save_graph_xml` to work properly. See docstring for details.\n",
    "\n",
    "To save/load full-featured OSMnx graphs to/from disk for later use, use the `save_graphml` and `load_graphml` functions instead."
   ]
  },
  {
   "cell_type": "code",
   "execution_count": 9,
   "metadata": {},
   "outputs": [
    {
     "name": "stdout",
     "output_type": "stream",
     "text": [
      "2022-03-11 12:59:55 Configured OSMnx 1.1.2\n",
      "2022-03-11 12:59:55 HTTP response caching is on\n",
      "2022-03-11 12:59:55 Retrieved response from cache file \"cache/c17ad8d303536745d4004e8b587ba39427593e08.json\"\n",
      "2022-03-11 12:59:55 Created GeoDataFrame with 1 rows from 1 queries\n",
      "2022-03-11 12:59:55 Constructed place geometry polygon(s) to query API\n",
      "2022-03-11 12:59:55 Projected GeoDataFrame to +proj=utm +zone=10 +ellps=WGS84 +datum=WGS84 +units=m +no_defs +type=crs\n",
      "2022-03-11 12:59:55 Projected GeoDataFrame to epsg:4326\n",
      "2022-03-11 12:59:55 Projected GeoDataFrame to +proj=utm +zone=10 +ellps=WGS84 +datum=WGS84 +units=m +no_defs +type=crs\n",
      "2022-03-11 12:59:55 Projected GeoDataFrame to epsg:4326\n",
      "2022-03-11 12:59:55 Requesting data within polygon from API in 1 request(s)\n",
      "2022-03-11 12:59:55 Retrieved response from cache file \"cache/8578cc733ff0bf2e567bcc8e10fcc354a5b3de1a.json\"\n",
      "2022-03-11 12:59:55 Got all network data within polygon from API in 1 request(s)\n",
      "2022-03-11 12:59:55 Creating graph from downloaded OSM data...\n",
      "2022-03-11 12:59:55 Created graph with 5741 nodes and 6042 edges\n"
     ]
    },
    {
     "name": "stderr",
     "output_type": "stream",
     "text": [
      "/Users/junhyun/.pyenv/versions/3.8.5/envs/openstreetmap/lib/python3.8/site-packages/osmnx/geocoder.py:110: FutureWarning: The frame.append method is deprecated and will be removed from pandas in a future version. Use pandas.concat instead.\n",
      "  gdf = gdf.append(_geocode_query_to_gdf(q, wr, by_osmid))\n"
     ]
    },
    {
     "name": "stdout",
     "output_type": "stream",
     "text": [
      "2022-03-11 12:59:55 Added length attributes to graph edges\n",
      "2022-03-11 12:59:55 Identifying all nodes that lie outside the polygon...\n",
      "2022-03-11 12:59:56 Created nodes GeoDataFrame from graph\n",
      "2022-03-11 12:59:56 Created r-tree spatial index for 5741 geometries\n",
      "2022-03-11 12:59:56 Identified 5024 geometries inside polygon\n",
      "2022-03-11 12:59:56 Removed 717 nodes outside polygon\n",
      "2022-03-11 12:59:56 Truncated graph by polygon\n",
      "2022-03-11 12:59:56 Begin topologically simplifying the graph...\n",
      "2022-03-11 12:59:56 Identified 753 edge endpoints\n",
      "2022-03-11 12:59:57 Simplified graph: 5024 to 753 nodes, 5289 to 1018 edges\n",
      "2022-03-11 12:59:57 Identifying all nodes that lie outside the polygon...\n",
      "2022-03-11 12:59:57 Created nodes GeoDataFrame from graph\n",
      "2022-03-11 12:59:57 Created r-tree spatial index for 753 geometries\n",
      "2022-03-11 12:59:57 Identified 357 geometries inside polygon\n",
      "2022-03-11 12:59:57 Removed 396 nodes outside polygon\n",
      "2022-03-11 12:59:57 Removed 2 isolated nodes\n",
      "2022-03-11 12:59:57 Got largest weakly connected component (353 of 355 total nodes)\n",
      "2022-03-11 12:59:57 Truncated graph by polygon\n",
      "2022-03-11 12:59:57 Counted undirected street segments incident on each node\n",
      "2022-03-11 12:59:57 graph_from_polygon returned graph with 353 nodes and 496 edges\n",
      "2022-03-11 12:59:57 graph_from_place returned graph with 353 nodes and 496 edges\n",
      "2022-03-11 12:59:57 Created nodes GeoDataFrame from graph\n",
      "2022-03-11 12:59:57 Created edges GeoDataFrame from graph\n",
      "2022-03-11 12:59:58 Saved graph as .osm file at \"data/piedmont.osm\"\n"
     ]
    }
   ],
   "source": [
    "# save graph to disk as .osm xml file\n",
    "ox.config(all_oneway=True, log_console=True, use_cache=True)\n",
    "G = ox.graph_from_place(\"Piedmont, California, USA\", network_type=\"drive\")\n",
    "ox.save_graph_xml(G, filepath=\"./data/piedmont.osm\")"
   ]
  },
  {
   "cell_type": "code",
   "execution_count": null,
   "metadata": {},
   "outputs": [],
   "source": []
  }
 ],
 "metadata": {
  "anaconda-cloud": {},
  "interpreter": {
   "hash": "eef2894f7a9f9d7d072564062bc0a7eefb4ed49d743b202f3bff32153066ff5a"
  },
  "kernelspec": {
   "display_name": "Python (ox)",
   "language": "python",
   "name": "python3"
  },
  "language_info": {
   "codemirror_mode": {
    "name": "ipython",
    "version": 3
   },
   "file_extension": ".py",
   "mimetype": "text/x-python",
   "name": "python",
   "nbconvert_exporter": "python",
   "pygments_lexer": "ipython3",
   "version": "3.8.5"
  }
 },
 "nbformat": 4,
 "nbformat_minor": 4
}
