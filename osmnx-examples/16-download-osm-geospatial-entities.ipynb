{
 "cells": [
  {
   "cell_type": "markdown",
   "metadata": {},
   "source": [
    "# Download any OSM Geospatial Entities with OSMnx\n",
    "\n",
    "Author: [Geoff Boeing](https://geoffboeing.com/)\n",
    "\n",
    "More info:\n",
    "\n",
    "  - [Overview of OSMnx](http://geoffboeing.com/2016/11/osmnx-python-street-networks/)\n",
    "  - [Documentation and install instructions](https://osmnx.readthedocs.io)\n",
    "  - [Examples, demos, tutorials](https://github.com/gboeing/osmnx-examples)\n",
    "  - [Journal article and citation info](http://geoffboeing.com/publications/osmnx-complex-street-networks/)\n",
    "  - [GitHub repo](https://github.com/gboeing/osmnx)\n",
    "  \n",
    "This notebook provides a quick tour of using OSMnx to download any geospatial entites/objects from OpenStreetMap as a geopandas GeoDataFrame."
   ]
  },
  {
   "cell_type": "code",
   "execution_count": 1,
   "metadata": {},
   "outputs": [
    {
     "data": {
      "text/plain": [
       "'1.1.2'"
      ]
     },
     "execution_count": 1,
     "metadata": {},
     "output_type": "execute_result"
    }
   ],
   "source": [
    "import osmnx as ox\n",
    "\n",
    "%matplotlib inline\n",
    "ox.config(use_cache=True, log_console=False)\n",
    "ox.__version__"
   ]
  },
  {
   "cell_type": "markdown",
   "metadata": {},
   "source": [
    "Use the `geometries` module to download entities, such as grocery stores, transit stops, points of interest, or building footprints, and turn them into a GeoDataFrame: [see docs](https://osmnx.readthedocs.io/en/stable/osmnx.html#module-osmnx.geometries).\n",
    "\n",
    "To query, pass a `tags` dict where keys are OSM tags. The dict's values can be either:\n",
    "  1. `True` to retrieve all OSM objects with this tag, regardless of its value\n",
    "  2. a single value as a string to retrieve all OSM objects with this tag:value combination\n",
    "  3. a list of string values to retrieve all OSM objects where this tag matches any of these values\n",
    "\n",
    "Pass multiple dict key:value pairs to retrieve the union (not intersection) of these pairs."
   ]
  },
  {
   "cell_type": "code",
   "execution_count": 2,
   "metadata": {},
   "outputs": [
    {
     "name": "stderr",
     "output_type": "stream",
     "text": [
      "/Users/junhyun/.pyenv/versions/3.8.5/envs/openstreetmap/lib/python3.8/site-packages/osmnx/geocoder.py:110: FutureWarning: The frame.append method is deprecated and will be removed from pandas in a future version. Use pandas.concat instead.\n",
      "  gdf = gdf.append(_geocode_query_to_gdf(q, wr, by_osmid))\n"
     ]
    },
    {
     "data": {
      "text/plain": [
       "(56, 47)"
      ]
     },
     "execution_count": 2,
     "metadata": {},
     "output_type": "execute_result"
    }
   ],
   "source": [
    "# get all building footprints in some neighborhood\n",
    "# `True` means retrieve any object with this tag, regardless of value\n",
    "place = \"Bunker Hill, Los Angeles, California\"\n",
    "tags = {\"building\": True}\n",
    "gdf = ox.geometries_from_place(place, tags)\n",
    "gdf.shape"
   ]
  },
  {
   "cell_type": "code",
   "execution_count": 3,
   "metadata": {},
   "outputs": [
    {
     "data": {
      "image/png": "[encoded data removed]",
      "text/plain": [
       "<Figure size 216x216 with 1 Axes>"
      ]
     },
     "metadata": {},
     "output_type": "display_data"
    }
   ],
   "source": [
    "fig, ax = ox.plot_footprints(gdf, figsize=(3, 3))"
   ]
  },
  {
   "cell_type": "code",
   "execution_count": 4,
   "metadata": {},
   "outputs": [
    {
     "name": "stderr",
     "output_type": "stream",
     "text": [
      "/Users/junhyun/.pyenv/versions/3.8.5/envs/openstreetmap/lib/python3.8/site-packages/osmnx/geocoder.py:110: FutureWarning: The frame.append method is deprecated and will be removed from pandas in a future version. Use pandas.concat instead.\n",
      "  gdf = gdf.append(_geocode_query_to_gdf(q, wr, by_osmid))\n"
     ]
    },
    {
     "data": {
      "text/plain": [
       "(1, 4)"
      ]
     },
     "execution_count": 4,
     "metadata": {},
     "output_type": "execute_result"
    }
   ],
   "source": [
    "# get all the parks in some neighborhood\n",
    "# constrain acceptable `leisure` tag values to `park`\n",
    "tags = {\"leisure\": \"park\"}\n",
    "gdf = ox.geometries_from_place(place, tags)\n",
    "gdf.shape"
   ]
  },
  {
   "cell_type": "code",
   "execution_count": 5,
   "metadata": {},
   "outputs": [
    {
     "name": "stderr",
     "output_type": "stream",
     "text": [
      "/Users/junhyun/.pyenv/versions/3.8.5/envs/openstreetmap/lib/python3.8/site-packages/osmnx/geocoder.py:110: FutureWarning: The frame.append method is deprecated and will be removed from pandas in a future version. Use pandas.concat instead.\n",
      "  gdf = gdf.append(_geocode_query_to_gdf(q, wr, by_osmid))\n"
     ]
    },
    {
     "data": {
      "text/plain": [
       "(138, 60)"
      ]
     },
     "execution_count": 5,
     "metadata": {},
     "output_type": "execute_result"
    }
   ],
   "source": [
    "# get everything tagged amenity,\n",
    "# and everything tagged landuse = retail or commercial,\n",
    "# and everything tagged highway = bus_stop\n",
    "tags = {\"amenity\": True, \"landuse\": [\"retail\", \"commercial\"], \"highway\": \"bus_stop\"}\n",
    "gdf = ox.geometries_from_place(\"Piedmont, California, USA\", tags)\n",
    "gdf.shape"
   ]
  },
  {
   "cell_type": "code",
   "execution_count": 6,
   "metadata": {},
   "outputs": [
    {
     "data": {
      "text/html": [
       "<div>\n",
       "<style scoped>\n",
       "    .dataframe tbody tr th:only-of-type {\n",
       "        vertical-align: middle;\n",
       "    }\n",
       "\n",
       "    .dataframe tbody tr th {\n",
       "        vertical-align: top;\n",
       "    }\n",
       "\n",
       "    .dataframe thead th {\n",
       "        text-align: right;\n",
       "    }\n",
       "</style>\n",
       "<table border=\"1\" class=\"dataframe\">\n",
       "  <thead>\n",
       "    <tr style=\"text-align: right;\">\n",
       "      <th></th>\n",
       "      <th></th>\n",
       "      <th>amenity</th>\n",
       "      <th>name</th>\n",
       "      <th>geometry</th>\n",
       "      <th>brand</th>\n",
       "      <th>brand:wikidata</th>\n",
       "      <th>brand:wikipedia</th>\n",
       "    </tr>\n",
       "    <tr>\n",
       "      <th>element_type</th>\n",
       "      <th>osmid</th>\n",
       "      <th></th>\n",
       "      <th></th>\n",
       "      <th></th>\n",
       "      <th></th>\n",
       "      <th></th>\n",
       "      <th></th>\n",
       "    </tr>\n",
       "  </thead>\n",
       "  <tbody>\n",
       "    <tr>\n",
       "      <th>node</th>\n",
       "      <th>2810181540</th>\n",
       "      <td>bank</td>\n",
       "      <td>Citibank</td>\n",
       "      <td>POINT (-122.23256 37.82515)</td>\n",
       "      <td>Citibank</td>\n",
       "      <td>Q857063</td>\n",
       "      <td>en:Citibank</td>\n",
       "    </tr>\n",
       "    <tr>\n",
       "      <th rowspan=\"2\" valign=\"top\">way</th>\n",
       "      <th>276424028</th>\n",
       "      <td>bank</td>\n",
       "      <td>Bank of America</td>\n",
       "      <td>POLYGON ((-122.23258 37.82491, -122.23252 37.8...</td>\n",
       "      <td>Bank of America</td>\n",
       "      <td>Q487907</td>\n",
       "      <td>en:Bank of America</td>\n",
       "    </tr>\n",
       "    <tr>\n",
       "      <th>285549437</th>\n",
       "      <td>bank</td>\n",
       "      <td>Wells Fargo</td>\n",
       "      <td>POLYGON ((-122.23147 37.82466, -122.23134 37.8...</td>\n",
       "      <td>Wells Fargo</td>\n",
       "      <td>Q744149</td>\n",
       "      <td>en:Wells Fargo</td>\n",
       "    </tr>\n",
       "  </tbody>\n",
       "</table>\n",
       "</div>"
      ],
      "text/plain": [
       "                        amenity             name  \\\n",
       "element_type osmid                                 \n",
       "node         2810181540    bank         Citibank   \n",
       "way          276424028     bank  Bank of America   \n",
       "             285549437     bank      Wells Fargo   \n",
       "\n",
       "                                                                  geometry  \\\n",
       "element_type osmid                                                           \n",
       "node         2810181540                        POINT (-122.23256 37.82515)   \n",
       "way          276424028   POLYGON ((-122.23258 37.82491, -122.23252 37.8...   \n",
       "             285549437   POLYGON ((-122.23147 37.82466, -122.23134 37.8...   \n",
       "\n",
       "                                   brand brand:wikidata     brand:wikipedia  \n",
       "element_type osmid                                                           \n",
       "node         2810181540         Citibank        Q857063         en:Citibank  \n",
       "way          276424028   Bank of America        Q487907  en:Bank of America  \n",
       "             285549437       Wells Fargo        Q744149      en:Wells Fargo  "
      ]
     },
     "execution_count": 6,
     "metadata": {},
     "output_type": "execute_result"
    }
   ],
   "source": [
    "# view just the banks\n",
    "gdf[gdf[\"amenity\"] == \"bank\"].dropna(axis=1, how=\"any\")"
   ]
  },
  {
   "cell_type": "code",
   "execution_count": 7,
   "metadata": {},
   "outputs": [
    {
     "data": {
      "text/html": [
       "<div>\n",
       "<style scoped>\n",
       "    .dataframe tbody tr th:only-of-type {\n",
       "        vertical-align: middle;\n",
       "    }\n",
       "\n",
       "    .dataframe tbody tr th {\n",
       "        vertical-align: top;\n",
       "    }\n",
       "\n",
       "    .dataframe thead th {\n",
       "        text-align: right;\n",
       "    }\n",
       "</style>\n",
       "<table border=\"1\" class=\"dataframe\">\n",
       "  <thead>\n",
       "    <tr style=\"text-align: right;\">\n",
       "      <th></th>\n",
       "      <th></th>\n",
       "      <th>name</th>\n",
       "      <th>geometry</th>\n",
       "      <th>bus</th>\n",
       "      <th>highway</th>\n",
       "      <th>network</th>\n",
       "      <th>public_transport</th>\n",
       "      <th>ref</th>\n",
       "      <th>route_ref</th>\n",
       "    </tr>\n",
       "    <tr>\n",
       "      <th>element_type</th>\n",
       "      <th>osmid</th>\n",
       "      <th></th>\n",
       "      <th></th>\n",
       "      <th></th>\n",
       "      <th></th>\n",
       "      <th></th>\n",
       "      <th></th>\n",
       "      <th></th>\n",
       "      <th></th>\n",
       "    </tr>\n",
       "  </thead>\n",
       "  <tbody>\n",
       "    <tr>\n",
       "      <th rowspan=\"5\" valign=\"top\">node</th>\n",
       "      <th>4071030440</th>\n",
       "      <td>Park Boulevard &amp; Saint James Drive</td>\n",
       "      <td>POINT (-122.21517 37.81248)</td>\n",
       "      <td>yes</td>\n",
       "      <td>bus_stop</td>\n",
       "      <td>AC Transit</td>\n",
       "      <td>platform</td>\n",
       "      <td>57544</td>\n",
       "      <td>V;33;688</td>\n",
       "    </tr>\n",
       "    <tr>\n",
       "      <th>5844909127</th>\n",
       "      <td>Park Boulevard &amp; Estates Drive</td>\n",
       "      <td>POINT (-122.21392 37.81363)</td>\n",
       "      <td>yes</td>\n",
       "      <td>bus_stop</td>\n",
       "      <td>AC Transit</td>\n",
       "      <td>platform</td>\n",
       "      <td>54866</td>\n",
       "      <td>V;33;688</td>\n",
       "    </tr>\n",
       "    <tr>\n",
       "      <th>5845148873</th>\n",
       "      <td>Hampton Road &amp; Sandringham Road</td>\n",
       "      <td>POINT (-122.21492 37.81822)</td>\n",
       "      <td>yes</td>\n",
       "      <td>bus_stop</td>\n",
       "      <td>AC Transit</td>\n",
       "      <td>platform</td>\n",
       "      <td>53832</td>\n",
       "      <td>33</td>\n",
       "    </tr>\n",
       "    <tr>\n",
       "      <th>5845152990</th>\n",
       "      <td>Hampton Road &amp; Sandringham Road</td>\n",
       "      <td>POINT (-122.21459 37.81818)</td>\n",
       "      <td>yes</td>\n",
       "      <td>bus_stop</td>\n",
       "      <td>AC Transit</td>\n",
       "      <td>platform</td>\n",
       "      <td>50830</td>\n",
       "      <td>33</td>\n",
       "    </tr>\n",
       "    <tr>\n",
       "      <th>5845153014</th>\n",
       "      <td>Hampton Road &amp; Seaview Avenue</td>\n",
       "      <td>POINT (-122.22303 37.81763)</td>\n",
       "      <td>yes</td>\n",
       "      <td>bus_stop</td>\n",
       "      <td>AC Transit</td>\n",
       "      <td>platform</td>\n",
       "      <td>53865</td>\n",
       "      <td>33</td>\n",
       "    </tr>\n",
       "  </tbody>\n",
       "</table>\n",
       "</div>"
      ],
      "text/plain": [
       "                                                       name  \\\n",
       "element_type osmid                                            \n",
       "node         4071030440  Park Boulevard & Saint James Drive   \n",
       "             5844909127      Park Boulevard & Estates Drive   \n",
       "             5845148873     Hampton Road & Sandringham Road   \n",
       "             5845152990     Hampton Road & Sandringham Road   \n",
       "             5845153014       Hampton Road & Seaview Avenue   \n",
       "\n",
       "                                            geometry  bus   highway  \\\n",
       "element_type osmid                                                    \n",
       "node         4071030440  POINT (-122.21517 37.81248)  yes  bus_stop   \n",
       "             5844909127  POINT (-122.21392 37.81363)  yes  bus_stop   \n",
       "             5845148873  POINT (-122.21492 37.81822)  yes  bus_stop   \n",
       "             5845152990  POINT (-122.21459 37.81818)  yes  bus_stop   \n",
       "             5845153014  POINT (-122.22303 37.81763)  yes  bus_stop   \n",
       "\n",
       "                            network public_transport    ref route_ref  \n",
       "element_type osmid                                                     \n",
       "node         4071030440  AC Transit         platform  57544  V;33;688  \n",
       "             5844909127  AC Transit         platform  54866  V;33;688  \n",
       "             5845148873  AC Transit         platform  53832        33  \n",
       "             5845152990  AC Transit         platform  50830        33  \n",
       "             5845153014  AC Transit         platform  53865        33  "
      ]
     },
     "execution_count": 7,
     "metadata": {},
     "output_type": "execute_result"
    }
   ],
   "source": [
    "# view just the bus stops\n",
    "gdf[gdf[\"highway\"] == \"bus_stop\"].dropna(axis=1, how=\"any\").head()"
   ]
  },
  {
   "cell_type": "code",
   "execution_count": null,
   "metadata": {},
   "outputs": [],
   "source": []
  }
 ],
 "metadata": {
  "interpreter": {
   "hash": "eef2894f7a9f9d7d072564062bc0a7eefb4ed49d743b202f3bff32153066ff5a"
  },
  "kernelspec": {
   "display_name": "Python (ox)",
   "language": "python",
   "name": "python3"
  },
  "language_info": {
   "codemirror_mode": {
    "name": "ipython",
    "version": 3
   },
   "file_extension": ".py",
   "mimetype": "text/x-python",
   "name": "python",
   "nbconvert_exporter": "python",
   "pygments_lexer": "ipython3",
   "version": "3.8.5"
  }
 },
 "nbformat": 4,
 "nbformat_minor": 4
}
