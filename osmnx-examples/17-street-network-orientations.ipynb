{
 "cells": [
  {
   "cell_type": "markdown",
   "metadata": {},
   "source": [
    "# City street network orientations\n",
    "\n",
    "Author: [Geoff Boeing](https://geoffboeing.com/)\n",
    "\n",
    "Compare the spatial orientations of city street networks with OSMnx.\n",
    "\n",
    "  - [Overview of OSMnx](http://geoffboeing.com/2016/11/osmnx-python-street-networks/)\n",
    "  - [GitHub repo](https://github.com/gboeing/osmnx)\n",
    "  - [Examples, demos, tutorials](https://github.com/gboeing/osmnx-examples)\n",
    "  - [Documentation](https://osmnx.readthedocs.io/en/stable/)\n",
    "  - [Journal article/citation](http://geoffboeing.com/publications/osmnx-complex-street-networks/)"
   ]
  },
  {
   "cell_type": "code",
   "execution_count": 1,
   "metadata": {},
   "outputs": [
    {
     "data": {
      "text/plain": [
       "'1.1.2'"
      ]
     },
     "execution_count": 1,
     "metadata": {},
     "output_type": "execute_result"
    }
   ],
   "source": [
    "import matplotlib.pyplot as plt\n",
    "import numpy as np\n",
    "import osmnx as ox\n",
    "\n",
    "%matplotlib inline\n",
    "weight_by_length = False\n",
    "\n",
    "ox.config(use_cache=True, log_console=False)\n",
    "ox.__version__"
   ]
  },
  {
   "cell_type": "code",
   "execution_count": 2,
   "metadata": {},
   "outputs": [],
   "source": [
    "# define the study sites as label : query\n",
    "places = {\n",
    "    # 'Atlanta'       : 'Atlanta, Georgia, USA',\n",
    "    # 'Boston'        : 'Boston, MA, USA',\n",
    "    \"Buffalo\": \"Buffalo, NY, USA\",\n",
    "    # 'Charlotte'     : 'Charlotte, NC, USA',\n",
    "    # 'Chicago'       : 'Chicago, IL, USA',\n",
    "    \"Cleveland\": \"Cleveland, OH, USA\",\n",
    "    # 'Dallas'        : 'Dallas, TX, USA',\n",
    "    # 'Houston'       : 'Houston, TX, USA',\n",
    "    # 'Denver'        : 'Denver, CO, USA',\n",
    "    # 'Detroit'       : 'Detroit, MI, USA',\n",
    "    # 'Las Vegas'     : 'Las Vegas, NV, USA',\n",
    "    # 'Los Angeles'   : {'city':'Los Angeles', 'state':'CA', 'country':'USA'},\n",
    "    # 'Manhattan'     : 'Manhattan, NYC, NY, USA',\n",
    "    \"Miami\": \"Miami, FL, USA\",\n",
    "    \"Minneapolis\": \"Minneapolis, MN, USA\",\n",
    "    # 'Orlando'       : 'Orlando, FL, USA',\n",
    "    # 'Philadelphia'  : 'Philadelphia, PA, USA',\n",
    "    # 'Phoenix'       : 'Phoenix, AZ, USA',\n",
    "    # 'Portland'      : 'Portland, OR, USA',\n",
    "    # 'Sacramento'    : 'Sacramento, CA, USA',\n",
    "    \"San Francisco\": {\"city\": \"San Francisco\", \"state\": \"CA\", \"country\": \"USA\"},\n",
    "    # 'Seattle'       : 'Seattle, WA, USA',\n",
    "    # 'St Louis'      : 'St. Louis, MO, USA',\n",
    "    # 'Tampa'         : 'Tampa, FL, USA',\n",
    "    \"Washington\": \"District of Columbia, USA\",\n",
    "}"
   ]
  },
  {
   "cell_type": "code",
   "execution_count": 3,
   "metadata": {},
   "outputs": [
    {
     "name": "stderr",
     "output_type": "stream",
     "text": [
      "/Users/junhyun/.pyenv/versions/3.8.5/envs/openstreetmap/lib/python3.8/site-packages/osmnx/geocoder.py:110: FutureWarning: The frame.append method is deprecated and will be removed from pandas in a future version. Use pandas.concat instead.\n",
      "  gdf = gdf.append(_geocode_query_to_gdf(q, wr, by_osmid))\n",
      "/Users/junhyun/.pyenv/versions/3.8.5/envs/openstreetmap/lib/python3.8/site-packages/osmnx/geocoder.py:110: FutureWarning: The frame.append method is deprecated and will be removed from pandas in a future version. Use pandas.concat instead.\n",
      "  gdf = gdf.append(_geocode_query_to_gdf(q, wr, by_osmid))\n",
      "/Users/junhyun/.pyenv/versions/3.8.5/envs/openstreetmap/lib/python3.8/site-packages/osmnx/geocoder.py:110: FutureWarning: The frame.append method is deprecated and will be removed from pandas in a future version. Use pandas.concat instead.\n",
      "  gdf = gdf.append(_geocode_query_to_gdf(q, wr, by_osmid))\n",
      "/Users/junhyun/.pyenv/versions/3.8.5/envs/openstreetmap/lib/python3.8/site-packages/osmnx/geocoder.py:110: FutureWarning: The frame.append method is deprecated and will be removed from pandas in a future version. Use pandas.concat instead.\n",
      "  gdf = gdf.append(_geocode_query_to_gdf(q, wr, by_osmid))\n",
      "/Users/junhyun/.pyenv/versions/3.8.5/envs/openstreetmap/lib/python3.8/site-packages/osmnx/geocoder.py:110: FutureWarning: The frame.append method is deprecated and will be removed from pandas in a future version. Use pandas.concat instead.\n",
      "  gdf = gdf.append(_geocode_query_to_gdf(q, wr, by_osmid))\n",
      "/Users/junhyun/.pyenv/versions/3.8.5/envs/openstreetmap/lib/python3.8/site-packages/osmnx/geocoder.py:110: FutureWarning: The frame.append method is deprecated and will be removed from pandas in a future version. Use pandas.concat instead.\n",
      "  gdf = gdf.append(_geocode_query_to_gdf(q, wr, by_osmid))\n"
     ]
    },
    {
     "data": {
      "text/html": [
       "<div>\n",
       "<style scoped>\n",
       "    .dataframe tbody tr th:only-of-type {\n",
       "        vertical-align: middle;\n",
       "    }\n",
       "\n",
       "    .dataframe tbody tr th {\n",
       "        vertical-align: top;\n",
       "    }\n",
       "\n",
       "    .dataframe thead th {\n",
       "        text-align: right;\n",
       "    }\n",
       "</style>\n",
       "<table border=\"1\" class=\"dataframe\">\n",
       "  <thead>\n",
       "    <tr style=\"text-align: right;\">\n",
       "      <th></th>\n",
       "      <th>geometry</th>\n",
       "      <th>bbox_north</th>\n",
       "      <th>bbox_south</th>\n",
       "      <th>bbox_east</th>\n",
       "      <th>bbox_west</th>\n",
       "      <th>place_id</th>\n",
       "      <th>osm_type</th>\n",
       "      <th>osm_id</th>\n",
       "      <th>lat</th>\n",
       "      <th>lon</th>\n",
       "      <th>display_name</th>\n",
       "      <th>class</th>\n",
       "      <th>type</th>\n",
       "      <th>importance</th>\n",
       "    </tr>\n",
       "  </thead>\n",
       "  <tbody>\n",
       "    <tr>\n",
       "      <th>0</th>\n",
       "      <td>POLYGON ((-78.91945 42.94717, -78.91913 42.946...</td>\n",
       "      <td>42.966469</td>\n",
       "      <td>42.826039</td>\n",
       "      <td>-78.795168</td>\n",
       "      <td>-78.919453</td>\n",
       "      <td>282417634</td>\n",
       "      <td>relation</td>\n",
       "      <td>175031</td>\n",
       "      <td>42.886717</td>\n",
       "      <td>-78.878392</td>\n",
       "      <td>Buffalo, Erie County, New York, United States</td>\n",
       "      <td>boundary</td>\n",
       "      <td>administrative</td>\n",
       "      <td>0.732931</td>\n",
       "    </tr>\n",
       "    <tr>\n",
       "      <th>1</th>\n",
       "      <td>POLYGON ((-81.87909 41.39641, -81.87906 41.395...</td>\n",
       "      <td>41.604436</td>\n",
       "      <td>41.390628</td>\n",
       "      <td>-81.532744</td>\n",
       "      <td>-81.879094</td>\n",
       "      <td>282839750</td>\n",
       "      <td>relation</td>\n",
       "      <td>182130</td>\n",
       "      <td>41.498438</td>\n",
       "      <td>-81.668354</td>\n",
       "      <td>Cleveland, Cuyahoga County, Ohio, United States</td>\n",
       "      <td>boundary</td>\n",
       "      <td>administrative</td>\n",
       "      <td>0.856081</td>\n",
       "    </tr>\n",
       "    <tr>\n",
       "      <th>2</th>\n",
       "      <td>POLYGON ((-80.31976 25.76249, -80.31968 25.762...</td>\n",
       "      <td>25.855783</td>\n",
       "      <td>25.709052</td>\n",
       "      <td>-80.139157</td>\n",
       "      <td>-80.319760</td>\n",
       "      <td>282510924</td>\n",
       "      <td>relation</td>\n",
       "      <td>1216769</td>\n",
       "      <td>25.774173</td>\n",
       "      <td>-80.193620</td>\n",
       "      <td>Miami, Miami-Dade County, Florida, United States</td>\n",
       "      <td>boundary</td>\n",
       "      <td>administrative</td>\n",
       "      <td>0.885449</td>\n",
       "    </tr>\n",
       "    <tr>\n",
       "      <th>3</th>\n",
       "      <td>POLYGON ((-93.32913 44.92030, -93.32911 44.920...</td>\n",
       "      <td>45.051250</td>\n",
       "      <td>44.890150</td>\n",
       "      <td>-93.193859</td>\n",
       "      <td>-93.329127</td>\n",
       "      <td>282280126</td>\n",
       "      <td>relation</td>\n",
       "      <td>136712</td>\n",
       "      <td>44.972244</td>\n",
       "      <td>-93.268225</td>\n",
       "      <td>Minneapolis, Hennepin County, Minnesota, Unite...</td>\n",
       "      <td>boundary</td>\n",
       "      <td>administrative</td>\n",
       "      <td>0.747169</td>\n",
       "    </tr>\n",
       "    <tr>\n",
       "      <th>4</th>\n",
       "      <td>MULTIPOLYGON (((-123.17382 37.77573, -123.1737...</td>\n",
       "      <td>37.929811</td>\n",
       "      <td>37.640314</td>\n",
       "      <td>-122.281479</td>\n",
       "      <td>-123.173825</td>\n",
       "      <td>329474584</td>\n",
       "      <td>relation</td>\n",
       "      <td>111968</td>\n",
       "      <td>37.779026</td>\n",
       "      <td>-122.419906</td>\n",
       "      <td>San Francisco, California, United States</td>\n",
       "      <td>boundary</td>\n",
       "      <td>administrative</td>\n",
       "      <td>1.025131</td>\n",
       "    </tr>\n",
       "    <tr>\n",
       "      <th>5</th>\n",
       "      <td>POLYGON ((-77.11979 38.93435, -77.11977 38.934...</td>\n",
       "      <td>38.995968</td>\n",
       "      <td>38.791630</td>\n",
       "      <td>-76.909366</td>\n",
       "      <td>-77.119795</td>\n",
       "      <td>282296580</td>\n",
       "      <td>relation</td>\n",
       "      <td>162069</td>\n",
       "      <td>38.893847</td>\n",
       "      <td>-76.988043</td>\n",
       "      <td>District of Columbia, United States</td>\n",
       "      <td>boundary</td>\n",
       "      <td>administrative</td>\n",
       "      <td>0.712066</td>\n",
       "    </tr>\n",
       "  </tbody>\n",
       "</table>\n",
       "</div>"
      ],
      "text/plain": [
       "                                            geometry  bbox_north  bbox_south  \\\n",
       "0  POLYGON ((-78.91945 42.94717, -78.91913 42.946...   42.966469   42.826039   \n",
       "1  POLYGON ((-81.87909 41.39641, -81.87906 41.395...   41.604436   41.390628   \n",
       "2  POLYGON ((-80.31976 25.76249, -80.31968 25.762...   25.855783   25.709052   \n",
       "3  POLYGON ((-93.32913 44.92030, -93.32911 44.920...   45.051250   44.890150   \n",
       "4  MULTIPOLYGON (((-123.17382 37.77573, -123.1737...   37.929811   37.640314   \n",
       "5  POLYGON ((-77.11979 38.93435, -77.11977 38.934...   38.995968   38.791630   \n",
       "\n",
       "    bbox_east   bbox_west   place_id  osm_type   osm_id        lat  \\\n",
       "0  -78.795168  -78.919453  282417634  relation   175031  42.886717   \n",
       "1  -81.532744  -81.879094  282839750  relation   182130  41.498438   \n",
       "2  -80.139157  -80.319760  282510924  relation  1216769  25.774173   \n",
       "3  -93.193859  -93.329127  282280126  relation   136712  44.972244   \n",
       "4 -122.281479 -123.173825  329474584  relation   111968  37.779026   \n",
       "5  -76.909366  -77.119795  282296580  relation   162069  38.893847   \n",
       "\n",
       "          lon                                       display_name     class  \\\n",
       "0  -78.878392      Buffalo, Erie County, New York, United States  boundary   \n",
       "1  -81.668354    Cleveland, Cuyahoga County, Ohio, United States  boundary   \n",
       "2  -80.193620   Miami, Miami-Dade County, Florida, United States  boundary   \n",
       "3  -93.268225  Minneapolis, Hennepin County, Minnesota, Unite...  boundary   \n",
       "4 -122.419906           San Francisco, California, United States  boundary   \n",
       "5  -76.988043                District of Columbia, United States  boundary   \n",
       "\n",
       "             type  importance  \n",
       "0  administrative    0.732931  \n",
       "1  administrative    0.856081  \n",
       "2  administrative    0.885449  \n",
       "3  administrative    0.747169  \n",
       "4  administrative    1.025131  \n",
       "5  administrative    0.712066  "
      ]
     },
     "execution_count": 3,
     "metadata": {},
     "output_type": "execute_result"
    }
   ],
   "source": [
    "# verify OSMnx geocodes each query to what you expect (i.e., a [multi]polygon geometry)\n",
    "gdf = ox.geocode_to_gdf(list(places.values()))\n",
    "gdf"
   ]
  },
  {
   "cell_type": "code",
   "execution_count": 4,
   "metadata": {},
   "outputs": [
    {
     "name": "stdout",
     "output_type": "stream",
     "text": [
      "2022-03-11 12:55:15 Buffalo\n"
     ]
    },
    {
     "name": "stderr",
     "output_type": "stream",
     "text": [
      "/Users/junhyun/.pyenv/versions/3.8.5/envs/openstreetmap/lib/python3.8/site-packages/osmnx/geocoder.py:110: FutureWarning: The frame.append method is deprecated and will be removed from pandas in a future version. Use pandas.concat instead.\n",
      "  gdf = gdf.append(_geocode_query_to_gdf(q, wr, by_osmid))\n"
     ]
    },
    {
     "name": "stdout",
     "output_type": "stream",
     "text": [
      "2022-03-11 12:55:41 Cleveland\n"
     ]
    },
    {
     "name": "stderr",
     "output_type": "stream",
     "text": [
      "/Users/junhyun/.pyenv/versions/3.8.5/envs/openstreetmap/lib/python3.8/site-packages/osmnx/geocoder.py:110: FutureWarning: The frame.append method is deprecated and will be removed from pandas in a future version. Use pandas.concat instead.\n",
      "  gdf = gdf.append(_geocode_query_to_gdf(q, wr, by_osmid))\n"
     ]
    },
    {
     "name": "stdout",
     "output_type": "stream",
     "text": [
      "2022-03-11 13:00:48 Miami\n"
     ]
    },
    {
     "name": "stderr",
     "output_type": "stream",
     "text": [
      "/Users/junhyun/.pyenv/versions/3.8.5/envs/openstreetmap/lib/python3.8/site-packages/osmnx/geocoder.py:110: FutureWarning: The frame.append method is deprecated and will be removed from pandas in a future version. Use pandas.concat instead.\n",
      "  gdf = gdf.append(_geocode_query_to_gdf(q, wr, by_osmid))\n"
     ]
    },
    {
     "name": "stdout",
     "output_type": "stream",
     "text": [
      "2022-03-11 13:01:44 Minneapolis\n"
     ]
    },
    {
     "name": "stderr",
     "output_type": "stream",
     "text": [
      "/Users/junhyun/.pyenv/versions/3.8.5/envs/openstreetmap/lib/python3.8/site-packages/osmnx/geocoder.py:110: FutureWarning: The frame.append method is deprecated and will be removed from pandas in a future version. Use pandas.concat instead.\n",
      "  gdf = gdf.append(_geocode_query_to_gdf(q, wr, by_osmid))\n"
     ]
    },
    {
     "name": "stdout",
     "output_type": "stream",
     "text": [
      "2022-03-11 13:05:47 San Francisco\n"
     ]
    },
    {
     "name": "stderr",
     "output_type": "stream",
     "text": [
      "/Users/junhyun/.pyenv/versions/3.8.5/envs/openstreetmap/lib/python3.8/site-packages/osmnx/geocoder.py:110: FutureWarning: The frame.append method is deprecated and will be removed from pandas in a future version. Use pandas.concat instead.\n",
      "  gdf = gdf.append(_geocode_query_to_gdf(q, wr, by_osmid))\n"
     ]
    },
    {
     "name": "stdout",
     "output_type": "stream",
     "text": [
      "2022-03-11 13:06:22 Washington\n"
     ]
    },
    {
     "name": "stderr",
     "output_type": "stream",
     "text": [
      "/Users/junhyun/.pyenv/versions/3.8.5/envs/openstreetmap/lib/python3.8/site-packages/osmnx/geocoder.py:110: FutureWarning: The frame.append method is deprecated and will be removed from pandas in a future version. Use pandas.concat instead.\n",
      "  gdf = gdf.append(_geocode_query_to_gdf(q, wr, by_osmid))\n"
     ]
    }
   ],
   "source": [
    "# create figure and axes\n",
    "n = len(places)\n",
    "ncols = int(np.ceil(np.sqrt(n)))\n",
    "nrows = int(np.ceil(n / ncols))\n",
    "figsize = (ncols * 5, nrows * 5)\n",
    "fig, axes = plt.subplots(nrows, ncols, figsize=figsize, subplot_kw={\"projection\": \"polar\"})\n",
    "\n",
    "# plot each city's polar histogram\n",
    "for ax, place in zip(axes.flat, sorted(places.keys())):\n",
    "    print(ox.utils.ts(), place)\n",
    "\n",
    "    # get undirected graphs with edge bearing attributes\n",
    "    G = ox.graph_from_place(place, network_type=\"drive\")\n",
    "    Gu = ox.add_edge_bearings(ox.get_undirected(G))\n",
    "    fig, ax = ox.bearing.plot_orientation(Gu, ax=ax, title=place, area=True)\n",
    "\n",
    "# add figure title and save image\n",
    "suptitle_font = {\n",
    "    \"family\": \"DejaVu Sans\",\n",
    "    \"fontsize\": 60,\n",
    "    \"fontweight\": \"normal\",\n",
    "    \"y\": 1,\n",
    "}\n",
    "fig.suptitle(\"City Street Network Orientation\", **suptitle_font)\n",
    "fig.tight_layout()\n",
    "fig.subplots_adjust(hspace=0.35)\n",
    "fig.savefig(\"images/street-orientations.png\", facecolor=\"w\", dpi=100, bbox_inches=\"tight\")\n",
    "plt.close()"
   ]
  },
  {
   "cell_type": "markdown",
   "metadata": {},
   "source": [
    "You can also calculate the orientation entropy of a spatial graph with the `ox.bearing.orientation_entropy` function."
   ]
  },
  {
   "cell_type": "code",
   "execution_count": null,
   "metadata": {},
   "outputs": [],
   "source": []
  }
 ],
 "metadata": {
  "interpreter": {
   "hash": "eef2894f7a9f9d7d072564062bc0a7eefb4ed49d743b202f3bff32153066ff5a"
  },
  "kernelspec": {
   "display_name": "Python (ox)",
   "language": "python",
   "name": "python3"
  },
  "language_info": {
   "codemirror_mode": {
    "name": "ipython",
    "version": 3
   },
   "file_extension": ".py",
   "mimetype": "text/x-python",
   "name": "python",
   "nbconvert_exporter": "python",
   "pygments_lexer": "ipython3",
   "version": "3.8.5"
  }
 },
 "nbformat": 4,
 "nbformat_minor": 4
}
